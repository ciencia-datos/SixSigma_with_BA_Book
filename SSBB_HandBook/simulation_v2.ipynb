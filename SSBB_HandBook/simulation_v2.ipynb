{
 "cells": [
  {
   "cell_type": "code",
   "execution_count": 1,
   "id": "7613fb15-2f17-450c-9874-05afdb167a5a",
   "metadata": {},
   "outputs": [],
   "source": [
    "import random\n",
    "\n",
    "import matplotlib.pyplot as plt\n",
    "import pandas as pd\n",
    "import polars as pl\n",
    "import seaborn as sns\n",
    "\n",
    "sns.set_theme(\"notebook\", \"whitegrid\")"
   ]
  },
  {
   "cell_type": "code",
   "execution_count": 2,
   "id": "e455c65e-29ba-41f2-8dc4-fd134cc3eb8c",
   "metadata": {},
   "outputs": [],
   "source": [
    "df_proj = pl.read_csv(\n",
    "    r\"/Users/malleshamyamulla/Desktop/SSBBA/MBB_PROJECT/data/DBAS_Projects_22_23.csv\",\n",
    "    ignore_errors=True,\n",
    ")"
   ]
  },
  {
   "cell_type": "code",
   "execution_count": 3,
   "id": "aef3a244-e01b-4e42-8b43-1a100207e148",
   "metadata": {},
   "outputs": [],
   "source": [
    "df_proj.columns = [\n",
    "    \"project_name\",\n",
    "    \"total_files\",\n",
    "    \"no_of_analysts\",\n",
    "    \"no_of_days\",\n",
    "    \"no_of_hours\",\n",
    "]"
   ]
  },
  {
   "cell_type": "code",
   "execution_count": 4,
   "id": "45c7d674-0bae-46e7-8362-11068efea2ef",
   "metadata": {},
   "outputs": [
    {
     "data": {
      "text/html": [
       "<div><style>\n",
       ".dataframe > thead > tr,\n",
       ".dataframe > tbody > tr {\n",
       "  text-align: right;\n",
       "  white-space: pre-wrap;\n",
       "}\n",
       "</style>\n",
       "<small>shape: (5, 5)</small><table border=\"1\" class=\"dataframe\"><thead><tr><th>project_name</th><th>total_files</th><th>no_of_analysts</th><th>no_of_days</th><th>no_of_hours</th></tr><tr><td>str</td><td>i64</td><td>i64</td><td>i64</td><td>i64</td></tr></thead><tbody><tr><td>&quot;PROJECT_1&quot;</td><td>2437</td><td>7</td><td>4</td><td>32</td></tr><tr><td>&quot;PROJECT_2&quot;</td><td>282</td><td>11</td><td>12</td><td>96</td></tr><tr><td>&quot;PROJECT_3&quot;</td><td>202</td><td>6</td><td>5</td><td>40</td></tr><tr><td>&quot;PROJECT_4&quot;</td><td>294</td><td>11</td><td>6</td><td>48</td></tr><tr><td>&quot;PROJECT_5&quot;</td><td>62090</td><td>7</td><td>22</td><td>176</td></tr></tbody></table></div>"
      ],
      "text/plain": [
       "shape: (5, 5)\n",
       "┌──────────────┬─────────────┬────────────────┬────────────┬─────────────┐\n",
       "│ project_name ┆ total_files ┆ no_of_analysts ┆ no_of_days ┆ no_of_hours │\n",
       "│ ---          ┆ ---         ┆ ---            ┆ ---        ┆ ---         │\n",
       "│ str          ┆ i64         ┆ i64            ┆ i64        ┆ i64         │\n",
       "╞══════════════╪═════════════╪════════════════╪════════════╪═════════════╡\n",
       "│ PROJECT_1    ┆ 2437        ┆ 7              ┆ 4          ┆ 32          │\n",
       "│ PROJECT_2    ┆ 282         ┆ 11             ┆ 12         ┆ 96          │\n",
       "│ PROJECT_3    ┆ 202         ┆ 6              ┆ 5          ┆ 40          │\n",
       "│ PROJECT_4    ┆ 294         ┆ 11             ┆ 6          ┆ 48          │\n",
       "│ PROJECT_5    ┆ 62090       ┆ 7              ┆ 22         ┆ 176         │\n",
       "└──────────────┴─────────────┴────────────────┴────────────┴─────────────┘"
      ]
     },
     "execution_count": 4,
     "metadata": {},
     "output_type": "execute_result"
    }
   ],
   "source": [
    "df_proj.head()"
   ]
  },
  {
   "cell_type": "code",
   "execution_count": 61,
   "id": "776c8537-272c-4827-a4a2-45345416ad1f",
   "metadata": {},
   "outputs": [],
   "source": [
    "def generate_no_of_files_piiphi(_fc):\n",
    "    _perc = random.randrange(80, 100)\n",
    "    return (_fc * _perc) // 100\n",
    "\n",
    "\n",
    "# 0.30-0.01\n",
    "def generate_fps(_fc):\n",
    "    _perc = random.randrange(1,30)\n",
    "    return (_fc * _perc) // 100\n",
    "\n",
    "\n",
    "# 0.30-0.01\n",
    "def generate_fns(_fc):\n",
    "    _perc = random.randrange(1, 40)\n",
    "    return (_fc * _perc) // 100"
   ]
  },
  {
   "cell_type": "code",
   "execution_count": 6,
   "id": "e79a649d-ba87-4647-aac4-0d462d70f7c3",
   "metadata": {},
   "outputs": [
    {
     "data": {
      "text/html": [
       "<div><style>\n",
       ".dataframe > thead > tr,\n",
       ".dataframe > tbody > tr {\n",
       "  text-align: right;\n",
       "  white-space: pre-wrap;\n",
       "}\n",
       "</style>\n",
       "<small>shape: (9, 6)</small><table border=\"1\" class=\"dataframe\"><thead><tr><th>statistic</th><th>project_name</th><th>total_files</th><th>no_of_analysts</th><th>no_of_days</th><th>no_of_hours</th></tr><tr><td>str</td><td>str</td><td>f64</td><td>f64</td><td>f64</td><td>f64</td></tr></thead><tbody><tr><td>&quot;count&quot;</td><td>&quot;5221&quot;</td><td>5219.0</td><td>150.0</td><td>128.0</td><td>128.0</td></tr><tr><td>&quot;null_count&quot;</td><td>&quot;0&quot;</td><td>2.0</td><td>5071.0</td><td>5093.0</td><td>5093.0</td></tr><tr><td>&quot;mean&quot;</td><td>null</td><td>14740.265951</td><td>7.38</td><td>20.390625</td><td>163.125</td></tr><tr><td>&quot;std&quot;</td><td>null</td><td>39572.2687</td><td>3.235022</td><td>25.352393</td><td>202.819147</td></tr><tr><td>&quot;min&quot;</td><td>&quot;PROJECT_1&quot;</td><td>28.0</td><td>1.0</td><td>1.0</td><td>8.0</td></tr><tr><td>&quot;25%&quot;</td><td>null</td><td>285.0</td><td>6.0</td><td>5.0</td><td>40.0</td></tr><tr><td>&quot;50%&quot;</td><td>null</td><td>1218.0</td><td>7.0</td><td>11.0</td><td>88.0</td></tr><tr><td>&quot;75%&quot;</td><td>null</td><td>8693.0</td><td>9.0</td><td>24.0</td><td>192.0</td></tr><tr><td>&quot;max&quot;</td><td>&quot;PROJECT_999&quot;</td><td>468649.0</td><td>17.0</td><td>162.0</td><td>1296.0</td></tr></tbody></table></div>"
      ],
      "text/plain": [
       "shape: (9, 6)\n",
       "┌────────────┬──────────────┬──────────────┬────────────────┬────────────┬─────────────┐\n",
       "│ statistic  ┆ project_name ┆ total_files  ┆ no_of_analysts ┆ no_of_days ┆ no_of_hours │\n",
       "│ ---        ┆ ---          ┆ ---          ┆ ---            ┆ ---        ┆ ---         │\n",
       "│ str        ┆ str          ┆ f64          ┆ f64            ┆ f64        ┆ f64         │\n",
       "╞════════════╪══════════════╪══════════════╪════════════════╪════════════╪═════════════╡\n",
       "│ count      ┆ 5221         ┆ 5219.0       ┆ 150.0          ┆ 128.0      ┆ 128.0       │\n",
       "│ null_count ┆ 0            ┆ 2.0          ┆ 5071.0         ┆ 5093.0     ┆ 5093.0      │\n",
       "│ mean       ┆ null         ┆ 14740.265951 ┆ 7.38           ┆ 20.390625  ┆ 163.125     │\n",
       "│ std        ┆ null         ┆ 39572.2687   ┆ 3.235022       ┆ 25.352393  ┆ 202.819147  │\n",
       "│ min        ┆ PROJECT_1    ┆ 28.0         ┆ 1.0            ┆ 1.0        ┆ 8.0         │\n",
       "│ 25%        ┆ null         ┆ 285.0        ┆ 6.0            ┆ 5.0        ┆ 40.0        │\n",
       "│ 50%        ┆ null         ┆ 1218.0       ┆ 7.0            ┆ 11.0       ┆ 88.0        │\n",
       "│ 75%        ┆ null         ┆ 8693.0       ┆ 9.0            ┆ 24.0       ┆ 192.0       │\n",
       "│ max        ┆ PROJECT_999  ┆ 468649.0     ┆ 17.0           ┆ 162.0      ┆ 1296.0      │\n",
       "└────────────┴──────────────┴──────────────┴────────────────┴────────────┴─────────────┘"
      ]
     },
     "execution_count": 6,
     "metadata": {},
     "output_type": "execute_result"
    }
   ],
   "source": [
    "df_proj.describe()"
   ]
  },
  {
   "cell_type": "code",
   "execution_count": 7,
   "id": "731a4fa9-4786-4f08-bfbe-047d2865eec2",
   "metadata": {},
   "outputs": [],
   "source": [
    "def generate_days_count(_files):\n",
    "    if _files >= 100 and _files < 300:\n",
    "        _perc = random.randrange(1, 5)\n",
    "        return _perc\n",
    "    elif _files >= 300 and _files < 2000:\n",
    "        _perc = random.randrange(5, 11)\n",
    "        return _perc\n",
    "    elif _files >= 2000 and _files < 10000:\n",
    "        _perc = random.randrange(11, 24)\n",
    "        return _perc\n",
    "    elif _files >= 10000:\n",
    "        _perc = random.randrange(24, 165)\n",
    "        return _perc\n",
    "    else:\n",
    "        return 1"
   ]
  },
  {
   "cell_type": "code",
   "execution_count": 8,
   "id": "07376ca1-e1b4-45c6-bf39-413252a1fe5c",
   "metadata": {},
   "outputs": [],
   "source": [
    "def generate_analyst_count(_files):\n",
    "    if _files >= 100 and _files < 300:\n",
    "        _perc = random.randrange(1, 5)\n",
    "        return _perc\n",
    "    elif _files >= 300 and _files < 2000:\n",
    "        _perc = random.randrange(5, 8)\n",
    "        return _perc\n",
    "    elif _files >= 2000 and _files < 10000:\n",
    "        _perc = random.randrange(8, 12)\n",
    "        return _perc\n",
    "    elif _files >= 10000:\n",
    "        _perc = random.randrange(12, 18)\n",
    "        return _perc\n",
    "    else:\n",
    "        return 1"
   ]
  },
  {
   "cell_type": "code",
   "execution_count": 9,
   "id": "bee0bcad-19f9-46be-9ecb-d114ff818bfb",
   "metadata": {},
   "outputs": [],
   "source": [
    "df_proj_v1 = (\n",
    "    df_proj.with_columns(\n",
    "        [\n",
    "            pl.col(\"total_files\")\n",
    "            .map_elements(lambda x: generate_analyst_count(x))\n",
    "            .alias(\"no_of_analysts\"),\n",
    "            pl.col(\"total_files\")\n",
    "            .map_elements(lambda x: generate_days_count(x))\n",
    "            .alias(\"no_of_days\"),\n",
    "        ]\n",
    "    )\n",
    "    .with_columns((pl.col(\"no_of_days\") * 8).alias(\"no_of_hours\"))\n",
    "    .with_columns(\n",
    "        pl.col(\"total_files\")\n",
    "        .map_elements(lambda x: generate_no_of_files_piiphi(x))\n",
    "        .alias(\"no_of_pii_phi_tag_files\")\n",
    "    )\n",
    "    .with_columns(\n",
    "        pl.col(\"no_of_pii_phi_tag_files\")\n",
    "        .map_elements(lambda x: generate_fps(x))\n",
    "        .alias(\"no_of_FPS\")\n",
    "    )\n",
    "    .with_columns(\n",
    "        pl.col(\"no_of_pii_phi_tag_files\")\n",
    "        .map_elements(lambda x: generate_fns(x))\n",
    "        .alias(\"no_of_FNS\")\n",
    "    )\n",
    "    .with_columns((pl.col(\"no_of_FPS\") + pl.col(\"no_of_FNS\")).alias(\"total_FPS_FNS\"))\n",
    "    .with_columns(\n",
    "        (pl.col(\"no_of_pii_phi_tag_files\") - pl.col(\"total_FPS_FNS\")).alias(\n",
    "            \"total_TPS_TNS\"\n",
    "        )\n",
    "    )\n",
    "    .with_columns(\n",
    "        (\n",
    "            (pl.col(\"total_TPS_TNS\"))\n",
    "            / (pl.col(\"total_TPS_TNS\") + pl.col(\"total_FPS_FNS\"))\n",
    "        ).alias(\"accuracy_\")\n",
    "    )\n",
    ")"
   ]
  },
  {
   "cell_type": "code",
   "execution_count": 10,
   "id": "f3dfad0b-414c-46ad-8736-a20445611c07",
   "metadata": {},
   "outputs": [
    {
     "data": {
      "image/png": "[encoded data removed]",
      "text/plain": [
       "<Figure size 640x480 with 1 Axes>"
      ]
     },
     "metadata": {},
     "output_type": "display_data"
    }
   ],
   "source": [
    "sns.histplot(df_proj_v1[\"accuracy_\"], kde=True)\n",
    "plt.show()"
   ]
  },
  {
   "cell_type": "code",
   "execution_count": 13,
   "id": "4e3c1b41-b087-487d-840e-5a741308f35e",
   "metadata": {},
   "outputs": [],
   "source": [
    "df_proj_v1.write_csv(\n",
    "    r\"/Users/malleshamyamulla/Desktop/SSBBA/MBB_PROJECT/data/DBAS_Projects_Data_Tidy_V2.csv\"\n",
    ")"
   ]
  },
  {
   "cell_type": "code",
   "execution_count": 11,
   "id": "550dad32-70ef-430f-b1e3-afafc88b2897",
   "metadata": {},
   "outputs": [
    {
     "data": {
      "image/png": "[encoded data removed]",
      "text/plain": [
       "<Figure size 640x480 with 1 Axes>"
      ]
     },
     "metadata": {},
     "output_type": "display_data"
    }
   ],
   "source": [
    "sns.boxplot(df_proj_v1[\"accuracy_\"])\n",
    "plt.show()"
   ]
  },
  {
   "cell_type": "code",
   "execution_count": 12,
   "id": "c71585ab-592e-44f4-b198-d9552d9c16a3",
   "metadata": {},
   "outputs": [
    {
     "data": {
      "text/html": [
       "<div><style>\n",
       ".dataframe > thead > tr,\n",
       ".dataframe > tbody > tr {\n",
       "  text-align: right;\n",
       "  white-space: pre-wrap;\n",
       "}\n",
       "</style>\n",
       "<small>shape: (9, 2)</small><table border=\"1\" class=\"dataframe\"><thead><tr><th>statistic</th><th>value</th></tr><tr><td>str</td><td>f64</td></tr></thead><tbody><tr><td>&quot;count&quot;</td><td>5219.0</td></tr><tr><td>&quot;null_count&quot;</td><td>2.0</td></tr><tr><td>&quot;mean&quot;</td><td>0.778561</td></tr><tr><td>&quot;std&quot;</td><td>0.092345</td></tr><tr><td>&quot;min&quot;</td><td>0.570006</td></tr><tr><td>&quot;25%&quot;</td><td>0.70412</td></tr><tr><td>&quot;50%&quot;</td><td>0.780068</td></tr><tr><td>&quot;75%&quot;</td><td>0.850254</td></tr><tr><td>&quot;max&quot;</td><td>1.0</td></tr></tbody></table></div>"
      ],
      "text/plain": [
       "shape: (9, 2)\n",
       "┌────────────┬──────────┐\n",
       "│ statistic  ┆ value    │\n",
       "│ ---        ┆ ---      │\n",
       "│ str        ┆ f64      │\n",
       "╞════════════╪══════════╡\n",
       "│ count      ┆ 5219.0   │\n",
       "│ null_count ┆ 2.0      │\n",
       "│ mean       ┆ 0.778561 │\n",
       "│ std        ┆ 0.092345 │\n",
       "│ min        ┆ 0.570006 │\n",
       "│ 25%        ┆ 0.70412  │\n",
       "│ 50%        ┆ 0.780068 │\n",
       "│ 75%        ┆ 0.850254 │\n",
       "│ max        ┆ 1.0      │\n",
       "└────────────┴──────────┘"
      ]
     },
     "execution_count": 12,
     "metadata": {},
     "output_type": "execute_result"
    }
   ],
   "source": [
    "df_proj_v1[\"accuracy_\"].describe()"
   ]
  },
  {
   "cell_type": "markdown",
   "id": "30c84055-feb0-4305-accb-4980f76a4b00",
   "metadata": {},
   "source": [
    "### NEW"
   ]
  },
  {
   "cell_type": "code",
   "execution_count": 14,
   "id": "0605e062-20ad-4e9e-854b-715e2e152cbf",
   "metadata": {},
   "outputs": [],
   "source": [
    "df_new = pl.read_excel(\n",
    "    r\"/Users/malleshamyamulla/Desktop/SSBBA/MBB_PROJECT/data/DBAS_SDS_Projects_2023_V2.xlsx\"\n",
    ").filter(pl.col(\"Total Files\").is_not_null())"
   ]
  },
  {
   "cell_type": "code",
   "execution_count": 37,
   "id": "9b85a182-7904-4c0c-9861-03c60b1b7df7",
   "metadata": {},
   "outputs": [],
   "source": [
    "def _custom_count(x):\n",
    "    return len(x)\n",
    "\n",
    "\n",
    "df_new_2 = df_new.with_columns(pl.col(\"Team Member Name\").str.split(\",\")).with_columns(\n",
    "    pl.col(\"Team Member Name\")\n",
    "    .map_elements(lambda x: _custom_count(x))\n",
    "    .alias(\"no_of_analyst\")\n",
    ")"
   ]
  },
  {
   "cell_type": "code",
   "execution_count": 62,
   "id": "25d7f7dd-8405-40d2-9850-c178e9698f67",
   "metadata": {},
   "outputs": [],
   "source": [
    "DF_T = df_new_2.with_columns(\n",
    "        pl.col(\"Total Files\")\n",
    "        .map_elements(lambda x: generate_no_of_files_piiphi(x))\n",
    "        .alias(\"no_of_pii_phi_tag_files\")\n",
    "    ).with_columns(\n",
    "        pl.col(\"no_of_pii_phi_tag_files\")\n",
    "        .map_elements(lambda x: generate_fps(x))\n",
    "        .alias(\"no_of_FPS\")\n",
    "    ).with_columns(\n",
    "        pl.col(\"no_of_pii_phi_tag_files\")\n",
    "        .map_elements(lambda x: generate_fns(x))\n",
    "        .alias(\"no_of_FNS\")\n",
    "    ).with_columns((pl.col(\"no_of_FPS\") + pl.col(\"no_of_FNS\")).alias(\"total_FPS_FNS\")).with_columns(\n",
    "        (pl.col(\"no_of_pii_phi_tag_files\") - pl.col(\"total_FPS_FNS\")).alias(\n",
    "            \"total_TPS_TNS\"\n",
    "        )\n",
    "    ).with_columns(\n",
    "        (\n",
    "            (pl.col(\"total_TPS_TNS\"))\n",
    "            / (pl.col(\"total_TPS_TNS\") + pl.col(\"total_FPS_FNS\"))\n",
    "        ).alias(\"accuracy_\")\n",
    "    )"
   ]
  },
  {
   "cell_type": "code",
   "execution_count": 68,
   "id": "ba209eca-0592-4b52-9a73-6ff6ccee6bfe",
   "metadata": {},
   "outputs": [],
   "source": [
    "DF_T.drop('Team Member Name').write_csv(r'/Users/malleshamyamulla/Desktop/SSBBA/MBB_PROJECT/data/DBAS_Projects_Data_Tidy_V3.csv')"
   ]
  },
  {
   "cell_type": "code",
   "execution_count": 67,
   "id": "cedd08c7-d412-4fa4-82a8-e476f6d570b1",
   "metadata": {},
   "outputs": [
    {
     "data": {
      "text/html": [
       "<div><style>\n",
       ".dataframe > thead > tr,\n",
       ".dataframe > tbody > tr {\n",
       "  text-align: right;\n",
       "  white-space: pre-wrap;\n",
       "}\n",
       "</style>\n",
       "<small>shape: (260, 15)</small><table border=\"1\" class=\"dataframe\"><thead><tr><th>Project Name</th><th>Total Files</th><th>Started Date</th><th>Complete Date</th><th>Team Member Name</th><th>NO_OF_DAYS</th><th>NO_OF_DAYS_NORM</th><th>NO_OF_SERVICE_WORKING_HRS</th><th>no_of_analyst</th><th>no_of_pii_phi_tag_files</th><th>no_of_FPS</th><th>no_of_FNS</th><th>total_FPS_FNS</th><th>total_TPS_TNS</th><th>accuracy_</th></tr><tr><td>str</td><td>i64</td><td>str</td><td>str</td><td>list[str]</td><td>i64</td><td>i64</td><td>i64</td><td>i64</td><td>i64</td><td>i64</td><td>i64</td><td>i64</td><td>i64</td><td>f64</td></tr></thead><tbody><tr><td>&quot;PROJECT_1&quot;</td><td>15</td><td>&quot;01-03-23&quot;</td><td>&quot;01-04-23&quot;</td><td>[&quot;Karthik&quot;]</td><td>1</td><td>2</td><td>16</td><td>1</td><td>12</td><td>0</td><td>4</td><td>4</td><td>8</td><td>0.666667</td></tr><tr><td>&quot;PROJECT_2&quot;</td><td>2437</td><td>&quot;01-09-23&quot;</td><td>&quot;01-12-23&quot;</td><td>[&quot;Anitha&quot;, &quot;Saikrishna&quot;, … &quot;Anusha&quot;]</td><td>3</td><td>4</td><td>32</td><td>11</td><td>2339</td><td>374</td><td>701</td><td>1075</td><td>1264</td><td>0.540402</td></tr><tr><td>&quot;PROJECT_3&quot;</td><td>24</td><td>&quot;12-30-23&quot;</td><td>&quot;12-30-23&quot;</td><td>[&quot;Anusha&quot;, &quot;Praveen&quot;, &quot;Mahesh&quot;]</td><td>0</td><td>1</td><td>8</td><td>3</td><td>21</td><td>2</td><td>5</td><td>7</td><td>14</td><td>0.666667</td></tr><tr><td>&quot;PROJECT_4&quot;</td><td>9</td><td>&quot;01-09-23&quot;</td><td>&quot;01-09-23&quot;</td><td>[&quot;Naresh K&quot;, &quot;Sneh&quot;, … &quot;Mahesh&quot;]</td><td>0</td><td>1</td><td>8</td><td>4</td><td>7</td><td>0</td><td>0</td><td>0</td><td>7</td><td>1.0</td></tr><tr><td>&quot;PROJECT_5&quot;</td><td>14</td><td>&quot;01-10-23&quot;</td><td>&quot;01-10-23&quot;</td><td>[&quot;Anitha&quot;]</td><td>0</td><td>1</td><td>8</td><td>1</td><td>13</td><td>2</td><td>4</td><td>6</td><td>7</td><td>0.538462</td></tr><tr><td>&hellip;</td><td>&hellip;</td><td>&hellip;</td><td>&hellip;</td><td>&hellip;</td><td>&hellip;</td><td>&hellip;</td><td>&hellip;</td><td>&hellip;</td><td>&hellip;</td><td>&hellip;</td><td>&hellip;</td><td>&hellip;</td><td>&hellip;</td><td>&hellip;</td></tr><tr><td>&quot;PROJECT_256&quot;</td><td>27</td><td>&quot;12-26-23&quot;</td><td>&quot;12-27-23&quot;</td><td>[&quot;Aravind&quot;]</td><td>1</td><td>2</td><td>16</td><td>1</td><td>22</td><td>0</td><td>7</td><td>7</td><td>15</td><td>0.681818</td></tr><tr><td>&quot;PROJECT_257&quot;</td><td>1713</td><td>&quot;12-27-23&quot;</td><td>&quot;01-10-24&quot;</td><td>[&quot;Akil Sai&quot;, &quot; Karthik A&quot;, … &quot; Anitha&quot;]</td><td>14</td><td>15</td><td>120</td><td>5</td><td>1507</td><td>256</td><td>376</td><td>632</td><td>875</td><td>0.580624</td></tr><tr><td>&quot;PROJECT_258&quot;</td><td>102</td><td>&quot;12-26-23&quot;</td><td>&quot;01-08-24&quot;</td><td>[&quot;Naresh K&quot;, &quot; Sahith&quot;, &quot; Sneha&quot;]</td><td>13</td><td>14</td><td>112</td><td>3</td><td>91</td><td>7</td><td>31</td><td>38</td><td>53</td><td>0.582418</td></tr><tr><td>&quot;PROJECT_259&quot;</td><td>6</td><td>&quot;12-27-23&quot;</td><td>&quot;12-27-23&quot;</td><td>[&quot;Sneha&quot;]</td><td>0</td><td>1</td><td>8</td><td>1</td><td>5</td><td>1</td><td>0</td><td>1</td><td>4</td><td>0.8</td></tr><tr><td>&quot;PROJECT_260&quot;</td><td>205</td><td>&quot;11-07-23&quot;</td><td>&quot;11-14-23&quot;</td><td>[&quot;Benhur&quot;, &quot; Karthik&quot;, &quot; Naresh K&quot;]</td><td>7</td><td>8</td><td>64</td><td>3</td><td>184</td><td>31</td><td>66</td><td>97</td><td>87</td><td>0.472826</td></tr></tbody></table></div>"
      ],
      "text/plain": [
       "shape: (260, 15)\n",
       "┌────────────┬───────┬────────────┬────────────┬───┬───────────┬───────────┬───────────┬───────────┐\n",
       "│ Project    ┆ Total ┆ Started    ┆ Complete   ┆ … ┆ no_of_FNS ┆ total_FPS ┆ total_TPS ┆ accuracy_ │\n",
       "│ Name       ┆ Files ┆ Date       ┆ Date       ┆   ┆ ---       ┆ _FNS      ┆ _TNS      ┆ ---       │\n",
       "│ ---        ┆ ---   ┆ ---        ┆ ---        ┆   ┆ i64       ┆ ---       ┆ ---       ┆ f64       │\n",
       "│ str        ┆ i64   ┆ str        ┆ str        ┆   ┆           ┆ i64       ┆ i64       ┆           │\n",
       "╞════════════╪═══════╪════════════╪════════════╪═══╪═══════════╪═══════════╪═══════════╪═══════════╡\n",
       "│ PROJECT_1  ┆ 15    ┆ 01-03-23   ┆ 01-04-23   ┆ … ┆ 4         ┆ 4         ┆ 8         ┆ 0.666667  │\n",
       "│ PROJECT_2  ┆ 2437  ┆ 01-09-23   ┆ 01-12-23   ┆ … ┆ 701       ┆ 1075      ┆ 1264      ┆ 0.540402  │\n",
       "│ PROJECT_3  ┆ 24    ┆ 12-30-23   ┆ 12-30-23   ┆ … ┆ 5         ┆ 7         ┆ 14        ┆ 0.666667  │\n",
       "│ PROJECT_4  ┆ 9     ┆ 01-09-23   ┆ 01-09-23   ┆ … ┆ 0         ┆ 0         ┆ 7         ┆ 1.0       │\n",
       "│ PROJECT_5  ┆ 14    ┆ 01-10-23   ┆ 01-10-23   ┆ … ┆ 4         ┆ 6         ┆ 7         ┆ 0.538462  │\n",
       "│ …          ┆ …     ┆ …          ┆ …          ┆ … ┆ …         ┆ …         ┆ …         ┆ …         │\n",
       "│ PROJECT_25 ┆ 27    ┆ 12-26-23   ┆ 12-27-23   ┆ … ┆ 7         ┆ 7         ┆ 15        ┆ 0.681818  │\n",
       "│ 6          ┆       ┆            ┆            ┆   ┆           ┆           ┆           ┆           │\n",
       "│ PROJECT_25 ┆ 1713  ┆ 12-27-23   ┆ 01-10-24   ┆ … ┆ 376       ┆ 632       ┆ 875       ┆ 0.580624  │\n",
       "│ 7          ┆       ┆            ┆            ┆   ┆           ┆           ┆           ┆           │\n",
       "│ PROJECT_25 ┆ 102   ┆ 12-26-23   ┆ 01-08-24   ┆ … ┆ 31        ┆ 38        ┆ 53        ┆ 0.582418  │\n",
       "│ 8          ┆       ┆            ┆            ┆   ┆           ┆           ┆           ┆           │\n",
       "│ PROJECT_25 ┆ 6     ┆ 12-27-23   ┆ 12-27-23   ┆ … ┆ 0         ┆ 1         ┆ 4         ┆ 0.8       │\n",
       "│ 9          ┆       ┆            ┆            ┆   ┆           ┆           ┆           ┆           │\n",
       "│ PROJECT_26 ┆ 205   ┆ 11-07-23   ┆ 11-14-23   ┆ … ┆ 66        ┆ 97        ┆ 87        ┆ 0.472826  │\n",
       "│ 0          ┆       ┆            ┆            ┆   ┆           ┆           ┆           ┆           │\n",
       "└────────────┴───────┴────────────┴────────────┴───┴───────────┴───────────┴───────────┴───────────┘"
      ]
     },
     "execution_count": 67,
     "metadata": {},
     "output_type": "execute_result"
    }
   ],
   "source": [
    "DF_T"
   ]
  },
  {
   "cell_type": "markdown",
   "id": "6d420394-c55a-4cf7-a97c-dc75dcfd7ce3",
   "metadata": {},
   "source": [
    "| Sl. No | CTQ | Type | Spec | Target | LSL | USL |\n",
    "|---|---|---|---|---|---|---|\n",
    "| 1 | Accuracy | Measurable | >= 90% | 90% | - | 98% |  \n",
    "| 2 | Notification Delay Time | Measurable | Minimized | < 2 Weeks | - | 2 Weeks | "
   ]
  },
  {
   "cell_type": "markdown",
   "id": "f6868f00-8524-40da-9abb-094ca87babde",
   "metadata": {},
   "source": [
    "| Sl. No | CTQ | Type |Target | LSL | USL |\n",
    "|---|---|---|---|---|---|\n",
    "| 1 | Accuracy | Measurable | 90% | 90% | 95% | \n",
    "| 2 | Notification Delay Time | Measurable |< 2 Weeks | 1Week | 2 Weeks |"
   ]
  },
  {
   "cell_type": "code",
   "execution_count": null,
   "id": "ec86f5f4-0da6-42b8-97f8-cbaa8681036e",
   "metadata": {},
   "outputs": [],
   "source": []
  }
 ],
 "metadata": {
  "kernelspec": {
   "display_name": "Python 3 (ipykernel)",
   "language": "python",
   "name": "python3"
  },
  "language_info": {
   "codemirror_mode": {
    "name": "ipython",
    "version": 3
   },
   "file_extension": ".py",
   "mimetype": "text/x-python",
   "name": "python",
   "nbconvert_exporter": "python",
   "pygments_lexer": "ipython3",
   "version": "3.11.0"
  }
 },
 "nbformat": 4,
 "nbformat_minor": 5
}
