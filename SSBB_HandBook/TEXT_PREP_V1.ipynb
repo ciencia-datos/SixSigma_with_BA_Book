{
 "cells": [
  {
   "cell_type": "code",
   "execution_count": 1,
   "id": "36c03be0-0700-4b1b-a444-0d0ff0c44225",
   "metadata": {},
   "outputs": [],
   "source": [
    "import pandas as pd\n",
    "import re\n",
    "from sklearn.model_selection import train_test_split,cross_validate,cross_val_score,GridSearchCV\n",
    "from sklearn.preprocessing import StandardScaler\n",
    "\n",
    "from sklearn.feature_extraction.text import TfidfVectorizer\n",
    "from sklearn.naive_bayes import GaussianNB\n",
    "from sklearn.ensemble import RandomForestClassifier\n",
    "from sklearn.linear_model import LogisticRegression\n",
    "from sklearn.svm import SVC\n",
    "from sklearn.metrics import confusion_matrix,precision_recall_curve,roc_auc_score\n",
    "from sklearn.metrics import average_precision_score\n",
    "from yellowbrick.classifier import ROCAUC,confusion_matrix\n",
    "# import xgboost as xgb\n",
    "# import pickle\n",
    "\n",
    "# from imblearn.pipeline import make_pipeline\n",
    "# from imblearn.under_sampling import (\n",
    "#     RandomUnderSampler,\n",
    "#     AllKNN,\n",
    "#     TomekLinks,\n",
    "#     NearMiss\n",
    "# )\n",
    "# from imblearn.over_sampling import RandomOverSampler, SMOTE\n",
    "from yellowbrick.classifier import ClassificationReport\n",
    "from yellowbrick.classifier import ROCAUC,confusion_matrix"
   ]
  },
  {
   "cell_type": "code",
   "execution_count": null,
   "id": "dcc2c96f-a1e8-41ec-8f02-e1b445388b08",
   "metadata": {},
   "outputs": [],
   "source": [
    "df_pii_phi=pd.read_excel(r'/Users/malleshamyamulla/Desktop/SSBBA/MBB_PROJECT/data/class_pii_phi_tiny_v2.xlsx')"
   ]
  },
  {
   "cell_type": "code",
   "execution_count": null,
   "id": "d5cf28ac-c8c7-4b0f-b3e4-79da09cc8bd1",
   "metadata": {},
   "outputs": [],
   "source": [
    "df_A=df_pii_phi[['Field_Name', 'Class_Label']]\n",
    "df_B=df_pii_phi[['Field_Name.1', 'Class_Label.1']]"
   ]
  },
  {
   "cell_type": "code",
   "execution_count": null,
   "id": "15188246-c9c5-4b91-8381-cf62fcabd26e",
   "metadata": {},
   "outputs": [],
   "source": [
    "df_B.columns =['Field_Name', 'Class_Label']"
   ]
  },
  {
   "cell_type": "code",
   "execution_count": null,
   "id": "fa829d40-4a0f-46f8-abef-3782403b9b55",
   "metadata": {},
   "outputs": [],
   "source": [
    "df_AB =pd.concat([df_A,df_B],axis=0)"
   ]
  },
  {
   "cell_type": "code",
   "execution_count": null,
   "id": "9134a48f-fd9f-454c-b84d-08e23566ee97",
   "metadata": {},
   "outputs": [],
   "source": [
    "df_AB.columns=['header_field','class_label']"
   ]
  },
  {
   "cell_type": "code",
   "execution_count": null,
   "id": "908a93d8-3f56-4349-9349-57d0b1a80fce",
   "metadata": {},
   "outputs": [],
   "source": [
    "def my_string_tidy(texto):\n",
    "    \"\"\"Clean up all the punctuations from a message\"\"\"\n",
    "    ## STEP-1\n",
    "    rgx_ltrs = re.compile(\"[\\!|\\\"|\\#|\\$|\\%|\\&|\\'|\\(|\\)|\\*|\\+|\\,|\\-|\\/|\\:|\\;|\\<|\\=|\\>|\\?|\\[|\\\\|\\]|\\^|\\_|\\`|\\{|\\||\\}|\\~|\\.]+|FRM\\:[\\w\\W]+(SUBJ\\:)?MSG\\:|\\@|http(s)?|HTTP(S)?|\\n|\\r\")\n",
    "    tidy_1_txt = re.sub(rgx_ltrs,\"\",str(texto))\n",
    "    tidy_2_txt = tidy_1_txt.strip()\n",
    "    return tidy_2_txt.lower()"
   ]
  },
  {
   "cell_type": "code",
   "execution_count": null,
   "id": "a43463da-4cc5-4f90-b688-5e733734d094",
   "metadata": {},
   "outputs": [],
   "source": [
    "df_AB['header_field_tidy']=df_AB['header_field'].apply(lambda x:my_string_tidy(x))"
   ]
  },
  {
   "cell_type": "code",
   "execution_count": null,
   "id": "8b1b48a6-14ca-4190-ba5a-813cf30447ab",
   "metadata": {},
   "outputs": [],
   "source": [
    "df_AB_tidy = df_AB[['header_field_tidy','class_label']]"
   ]
  },
  {
   "cell_type": "code",
   "execution_count": null,
   "id": "3994ddcd-c07a-4c7e-b3c5-e409f58ec519",
   "metadata": {},
   "outputs": [],
   "source": [
    "df_AB_tidy['class_label']=df_AB_tidy['class_label'].replace({'PII/PHI':1,'NO-PII/PHI':0})"
   ]
  },
  {
   "cell_type": "code",
   "execution_count": null,
   "id": "d2905bca-26e6-4a09-a87d-786def4b69d5",
   "metadata": {},
   "outputs": [],
   "source": [
    "df_AB_tidy['class_label'].value_counts()"
   ]
  },
  {
   "cell_type": "code",
   "execution_count": null,
   "id": "b4fac381-264c-4c95-aa11-cb6e81a1530e",
   "metadata": {},
   "outputs": [],
   "source": [
    "X_HEADERS = df_AB_tidy[['header_field_tidy']]\n",
    "Y_PII_PHI_CLASS = df_AB_tidy['class_label']"
   ]
  },
  {
   "cell_type": "code",
   "execution_count": null,
   "id": "17d78408-7850-4a54-b2ed-140dfc5ad2c0",
   "metadata": {},
   "outputs": [],
   "source": [
    "from sklearn.feature_extraction.text import TfidfVectorizer\n",
    "\n",
    "corpus = X_HEADERS['header_field_tidy']\n",
    "\n",
    "vectorizer = TfidfVectorizer()\n",
    "\n",
    "x_vectors = vectorizer.fit_transform(corpus)\n",
    "\n",
    "# # Get feature names\n",
    "# feature_names = vectorizer.get_feature_names_out()\n",
    "\n",
    "# # Print TF-IDF vectors (example may not have many unique terms)\n",
    "# print(vectors.toarray())\n",
    "# print(feature_names)\n"
   ]
  },
  {
   "cell_type": "code",
   "execution_count": null,
   "id": "e7925ba5-8bbd-43a4-9298-a0ab9f98c0cc",
   "metadata": {},
   "outputs": [],
   "source": [
    "# Data splitting \n",
    "X_train_message_prev,X_test_message_prev,Y_train_message_flag,Y_test_message_flag = train_test_split(x_vectors.toarray(),\n",
    "                                                                                                     Y_PII_PHI_CLASS,random_state=2021,\n",
    "                                                                                                     \n",
    "                                                                                                     test_size=0.0)"
   ]
  },
  {
   "cell_type": "code",
   "execution_count": null,
   "id": "f4999432-34b6-461a-80a0-23df215c2376",
   "metadata": {},
   "outputs": [],
   "source": [
    "model_lr.fit(X_train_message_prev,Y_train_message_flag)"
   ]
  },
  {
   "cell_type": "code",
   "execution_count": null,
   "id": "437102c9-a763-4cb3-91c6-1d33bf8dcea0",
   "metadata": {},
   "outputs": [],
   "source": [
    "y_pred = model_lr.predict(X_test_message_prev)"
   ]
  },
  {
   "cell_type": "code",
   "execution_count": null,
   "id": "6a859c4d-a35e-402c-afcc-828e2617fb6d",
   "metadata": {},
   "outputs": [],
   "source": [
    "from sklearn.metrics import accuracy_score,roc_auc_score,confusion_matrix,ConfusionMatrixDisplay"
   ]
  },
  {
   "cell_type": "code",
   "execution_count": null,
   "id": "958c2b1f-fa44-4d9a-a078-d9af8b146197",
   "metadata": {},
   "outputs": [],
   "source": [
    "_plt=ConfusionMatrixDisplay(confusion_matrix(Y_test_message_flag,y_pred))\n",
    "_plt.plot()"
   ]
  },
  {
   "cell_type": "code",
   "execution_count": null,
   "id": "c213330e-ad90-46f4-b85e-13eb47e1b84d",
   "metadata": {},
   "outputs": [],
   "source": [
    "accuracy_score(Y_test_message_flag,y_pred)"
   ]
  },
  {
   "cell_type": "code",
   "execution_count": null,
   "id": "dedcb070-2578-4db9-b393-84b3b942ae8a",
   "metadata": {},
   "outputs": [],
   "source": [
    "Y_test_message_flag.shape"
   ]
  },
  {
   "cell_type": "code",
   "execution_count": null,
   "id": "66fcc134-9586-4b2b-9cd9-655123e77a22",
   "metadata": {},
   "outputs": [],
   "source": [
    "y_pred.shape"
   ]
  },
  {
   "cell_type": "code",
   "execution_count": null,
   "id": "7489426d-9c13-445b-a08e-31cb480fa27e",
   "metadata": {},
   "outputs": [],
   "source": [
    "from sklearn.neighbors import KNeighborsRegressor,KNeighborsClassifier\n"
   ]
  },
  {
   "cell_type": "code",
   "execution_count": null,
   "id": "644e5ce1-3102-41c5-b976-3ffc8e869b0d",
   "metadata": {},
   "outputs": [],
   "source": [
    "# Model Spec\n",
    "knn_model_covid = KNeighborsClassifier(n_neighbors=8)"
   ]
  },
  {
   "cell_type": "code",
   "execution_count": null,
   "id": "10132237-c2b8-4dab-8ecf-70c4bc12405c",
   "metadata": {},
   "outputs": [],
   "source": [
    "# Model Fit\n",
    "knn_model_covid.fit(X_train_message_prev,Y_train_message_flag)"
   ]
  },
  {
   "cell_type": "code",
   "execution_count": null,
   "id": "1023f5ca-1566-427a-99a8-2732eb53dfcf",
   "metadata": {},
   "outputs": [],
   "source": [
    "y_pred_ = knn_model_covid.predict(X_test_message_prev)"
   ]
  },
  {
   "cell_type": "code",
   "execution_count": null,
   "id": "3deb3d87-8ad7-472d-9d86-467075799595",
   "metadata": {},
   "outputs": [],
   "source": [
    "_plt=ConfusionMatrixDisplay(confusion_matrix(Y_test_message_flag,y_pred_))\n",
    "_plt.plot()"
   ]
  },
  {
   "cell_type": "code",
   "execution_count": null,
   "id": "17a834f1-0b12-4ae0-b091-d357e8a127a3",
   "metadata": {},
   "outputs": [],
   "source": [
    "accuracy_score(Y_test_message_flag,y_pred_)"
   ]
  },
  {
   "cell_type": "code",
   "execution_count": null,
   "id": "8f071b07-ebba-42f1-9614-4583e1b5d401",
   "metadata": {},
   "outputs": [],
   "source": [
    "from sklearn.tree import DecisionTreeRegressor,DecisionTreeClassifier\n",
    "import matplotlib.pyplot as plt"
   ]
  },
  {
   "cell_type": "code",
   "execution_count": null,
   "id": "1d07ab13-7ab4-4802-9d72-606350176537",
   "metadata": {},
   "outputs": [],
   "source": [
    "_model_DTR = DecisionTreeRegressor()"
   ]
  },
  {
   "cell_type": "code",
   "execution_count": null,
   "id": "dbccfd23-2d9d-4a2a-b855-f3d6b0a72c43",
   "metadata": {},
   "outputs": [],
   "source": [
    "_model_DTR.fit(X_train_message_prev,Y_train_message_flag)"
   ]
  },
  {
   "cell_type": "code",
   "execution_count": null,
   "id": "7e94fd46-ea40-4ca9-9146-bad1c1a2c32b",
   "metadata": {},
   "outputs": [],
   "source": [
    "yd_pred = _model_DTR.predict(X_test_message_prev)"
   ]
  },
  {
   "cell_type": "code",
   "execution_count": null,
   "id": "c67f8413-3b5a-4533-a6c1-28b3a7a09d38",
   "metadata": {},
   "outputs": [],
   "source": [
    "_plt=ConfusionMatrixDisplay(confusion_matrix(Y_test_message_flag,yd_pred))\n",
    "_plt.plot()"
   ]
  },
  {
   "cell_type": "code",
   "execution_count": null,
   "id": "96f41ce1-c048-42c6-a6d6-eeb5f0a90346",
   "metadata": {},
   "outputs": [],
   "source": [
    "accuracy_score(Y_test_message_flag,yd_pred)"
   ]
  },
  {
   "cell_type": "code",
   "execution_count": null,
   "id": "bddc5b75-39fa-474f-a6c0-0b5cc4921ded",
   "metadata": {},
   "outputs": [],
   "source": []
  }
 ],
 "metadata": {
  "kernelspec": {
   "display_name": "Python 3 (ipykernel)",
   "language": "python",
   "name": "python3"
  },
  "language_info": {
   "codemirror_mode": {
    "name": "ipython",
    "version": 3
   },
   "file_extension": ".py",
   "mimetype": "text/x-python",
   "name": "python",
   "nbconvert_exporter": "python",
   "pygments_lexer": "ipython3",
   "version": "3.11.0"
  }
 },
 "nbformat": 4,
 "nbformat_minor": 5
}
